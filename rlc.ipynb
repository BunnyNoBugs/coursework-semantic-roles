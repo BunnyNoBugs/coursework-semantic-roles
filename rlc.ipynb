{
 "cells": [
  {
   "cell_type": "code",
   "execution_count": 113,
   "metadata": {},
   "outputs": [],
   "source": [
    "import pandas as pd\n",
    "from collections import Counter\n",
    "import matplotlib.pyplot as plt\n",
    "from pprint import pprint"
   ]
  },
  {
   "cell_type": "code",
   "execution_count": 2,
   "metadata": {},
   "outputs": [
    {
     "data": {
      "text/html": [
       "<div>\n",
       "<style scoped>\n",
       "    .dataframe tbody tr th:only-of-type {\n",
       "        vertical-align: middle;\n",
       "    }\n",
       "\n",
       "    .dataframe tbody tr th {\n",
       "        vertical-align: top;\n",
       "    }\n",
       "\n",
       "    .dataframe thead th {\n",
       "        text-align: right;\n",
       "    }\n",
       "</style>\n",
       "<table border=\"1\" class=\"dataframe\">\n",
       "  <thead>\n",
       "    <tr style=\"text-align: right;\">\n",
       "      <th></th>\n",
       "      <th>document_id</th>\n",
       "      <th>sentence_id</th>\n",
       "      <th>original_text</th>\n",
       "      <th>corrected_text</th>\n",
       "      <th>quote</th>\n",
       "      <th>correction</th>\n",
       "      <th>tags</th>\n",
       "      <th>annotated</th>\n",
       "      <th>checked</th>\n",
       "    </tr>\n",
       "  </thead>\n",
       "  <tbody>\n",
       "    <tr>\n",
       "      <th>0</th>\n",
       "      <td>1</td>\n",
       "      <td>2</td>\n",
       "      <td>Одной из самых главных экологических проблем н...</td>\n",
       "      <td>Одной из самых главных экологических проблем н...</td>\n",
       "      <td>окружющей</td>\n",
       "      <td>окружающей</td>\n",
       "      <td>Ortho</td>\n",
       "      <td>1</td>\n",
       "      <td>1</td>\n",
       "    </tr>\n",
       "    <tr>\n",
       "      <th>1</th>\n",
       "      <td>1</td>\n",
       "      <td>10</td>\n",
       "      <td>Такие условия легко способствуют отравлению св...</td>\n",
       "      <td>Такие условия легко способствуют отравлению св...</td>\n",
       "      <td>свинцем</td>\n",
       "      <td>свинцом</td>\n",
       "      <td>Infl</td>\n",
       "      <td>1</td>\n",
       "      <td>1</td>\n",
       "    </tr>\n",
       "    <tr>\n",
       "      <th>2</th>\n",
       "      <td>1</td>\n",
       "      <td>11</td>\n",
       "      <td>Этот металл может сохраняться в организме чело...</td>\n",
       "      <td>Этот металл может сохраняться в организме чело...</td>\n",
       "      <td>воздействую</td>\n",
       "      <td>воздействуя</td>\n",
       "      <td>Syntax</td>\n",
       "      <td>1</td>\n",
       "      <td>1</td>\n",
       "    </tr>\n",
       "    <tr>\n",
       "      <th>3</th>\n",
       "      <td>1</td>\n",
       "      <td>14</td>\n",
       "      <td>Основной путь попадания свинца в организм - эт...</td>\n",
       "      <td>Основной путь попадания свинца в организм -   ...</td>\n",
       "      <td>это</td>\n",
       "      <td></td>\n",
       "      <td>Syntax, Insert, Transfer</td>\n",
       "      <td>1</td>\n",
       "      <td>1</td>\n",
       "    </tr>\n",
       "    <tr>\n",
       "      <th>4</th>\n",
       "      <td>1</td>\n",
       "      <td>15</td>\n",
       "      <td>Кроме того, содержание свинца в выращиваемых п...</td>\n",
       "      <td>Кроме того, содержание свинца в выращиваемых п...</td>\n",
       "      <td>свинцем</td>\n",
       "      <td>свинцом</td>\n",
       "      <td>Infl</td>\n",
       "      <td>1</td>\n",
       "      <td>1</td>\n",
       "    </tr>\n",
       "    <tr>\n",
       "      <th>...</th>\n",
       "      <td>...</td>\n",
       "      <td>...</td>\n",
       "      <td>...</td>\n",
       "      <td>...</td>\n",
       "      <td>...</td>\n",
       "      <td>...</td>\n",
       "      <td>...</td>\n",
       "      <td>...</td>\n",
       "      <td>...</td>\n",
       "    </tr>\n",
       "    <tr>\n",
       "      <th>61590</th>\n",
       "      <td>7460</td>\n",
       "      <td>125052</td>\n",
       "      <td>А в школьные годы моим любимым предметом был р...</td>\n",
       "      <td>А в школьные моими любимыми предметами были ру...</td>\n",
       "      <td>моим   любимым   предметом</td>\n",
       "      <td>моими любимыми предметами</td>\n",
       "      <td>Num</td>\n",
       "      <td>0</td>\n",
       "      <td>0</td>\n",
       "    </tr>\n",
       "    <tr>\n",
       "      <th>61591</th>\n",
       "      <td>7460</td>\n",
       "      <td>125052</td>\n",
       "      <td>А в школьные годы моим любимым предметом был р...</td>\n",
       "      <td>А в школьные моими любимыми предметами были ру...</td>\n",
       "      <td>был</td>\n",
       "      <td>были</td>\n",
       "      <td>Num</td>\n",
       "      <td>0</td>\n",
       "      <td>0</td>\n",
       "    </tr>\n",
       "    <tr>\n",
       "      <th>61592</th>\n",
       "      <td>7460</td>\n",
       "      <td>125053</td>\n",
       "      <td>Я тогда, в старших классах, поняла, что хочу с...</td>\n",
       "      <td>Я тогда, в старших классах, поняла, что хочу с...</td>\n",
       "      <td>апай</td>\n",
       "      <td>NaN</td>\n",
       "      <td>CS</td>\n",
       "      <td>0</td>\n",
       "      <td>0</td>\n",
       "    </tr>\n",
       "    <tr>\n",
       "      <th>61593</th>\n",
       "      <td>8303</td>\n",
       "      <td>134122</td>\n",
       "      <td>Потом отправила домой через ватсап, может быть...</td>\n",
       "      <td>Потом отправила домой через ватсап, может быть...</td>\n",
       "      <td>меня</td>\n",
       "      <td>по мне</td>\n",
       "      <td>Constr, Transfer</td>\n",
       "      <td>0</td>\n",
       "      <td>0</td>\n",
       "    </tr>\n",
       "    <tr>\n",
       "      <th>61594</th>\n",
       "      <td>8303</td>\n",
       "      <td>134122</td>\n",
       "      <td>Потом отправила домой через ватсап, может быть...</td>\n",
       "      <td>Потом отправила домой через ватсап, может быть...</td>\n",
       "      <td>соскучили</td>\n",
       "      <td>соскучились</td>\n",
       "      <td>Refl</td>\n",
       "      <td>0</td>\n",
       "      <td>0</td>\n",
       "    </tr>\n",
       "  </tbody>\n",
       "</table>\n",
       "<p>61595 rows × 9 columns</p>\n",
       "</div>"
      ],
      "text/plain": [
       "       document_id  sentence_id  \\\n",
       "0                1            2   \n",
       "1                1           10   \n",
       "2                1           11   \n",
       "3                1           14   \n",
       "4                1           15   \n",
       "...            ...          ...   \n",
       "61590         7460       125052   \n",
       "61591         7460       125052   \n",
       "61592         7460       125053   \n",
       "61593         8303       134122   \n",
       "61594         8303       134122   \n",
       "\n",
       "                                           original_text  \\\n",
       "0      Одной из самых главных экологических проблем н...   \n",
       "1      Такие условия легко способствуют отравлению св...   \n",
       "2      Этот металл может сохраняться в организме чело...   \n",
       "3      Основной путь попадания свинца в организм - эт...   \n",
       "4      Кроме того, содержание свинца в выращиваемых п...   \n",
       "...                                                  ...   \n",
       "61590  А в школьные годы моим любимым предметом был р...   \n",
       "61591  А в школьные годы моим любимым предметом был р...   \n",
       "61592  Я тогда, в старших классах, поняла, что хочу с...   \n",
       "61593  Потом отправила домой через ватсап, может быть...   \n",
       "61594  Потом отправила домой через ватсап, может быть...   \n",
       "\n",
       "                                          corrected_text  \\\n",
       "0      Одной из самых главных экологических проблем н...   \n",
       "1      Такие условия легко способствуют отравлению св...   \n",
       "2      Этот металл может сохраняться в организме чело...   \n",
       "3      Основной путь попадания свинца в организм -   ...   \n",
       "4      Кроме того, содержание свинца в выращиваемых п...   \n",
       "...                                                  ...   \n",
       "61590  А в школьные моими любимыми предметами были ру...   \n",
       "61591  А в школьные моими любимыми предметами были ру...   \n",
       "61592  Я тогда, в старших классах, поняла, что хочу с...   \n",
       "61593  Потом отправила домой через ватсап, может быть...   \n",
       "61594  Потом отправила домой через ватсап, может быть...   \n",
       "\n",
       "                            quote                 correction  \\\n",
       "0                       окружющей                 окружающей   \n",
       "1                         свинцем                    свинцом   \n",
       "2                     воздействую                воздействуя   \n",
       "3                             это                              \n",
       "4                         свинцем                    свинцом   \n",
       "...                           ...                        ...   \n",
       "61590  моим   любимым   предметом  моими любимыми предметами   \n",
       "61591                         был                       были   \n",
       "61592                        апай                        NaN   \n",
       "61593                        меня                     по мне   \n",
       "61594                   соскучили                соскучились   \n",
       "\n",
       "                           tags  annotated  checked  \n",
       "0                         Ortho          1        1  \n",
       "1                          Infl          1        1  \n",
       "2                        Syntax          1        1  \n",
       "3      Syntax, Insert, Transfer          1        1  \n",
       "4                          Infl          1        1  \n",
       "...                         ...        ...      ...  \n",
       "61590                       Num          0        0  \n",
       "61591                       Num          0        0  \n",
       "61592                        CS          0        0  \n",
       "61593          Constr, Transfer          0        0  \n",
       "61594                      Refl          0        0  \n",
       "\n",
       "[61595 rows x 9 columns]"
      ]
     },
     "execution_count": 2,
     "metadata": {},
     "output_type": "execute_result"
    }
   ],
   "source": [
    "rlc = pd.read_csv('annotated_texts_rlc.csv')\n",
    "rlc"
   ]
  },
  {
   "cell_type": "code",
   "execution_count": 10,
   "metadata": {},
   "outputs": [
    {
     "data": {
      "text/plain": [
       "0    59802\n",
       "1     1793\n",
       "Name: checked, dtype: int64"
      ]
     },
     "execution_count": 10,
     "metadata": {},
     "output_type": "execute_result"
    }
   ],
   "source": [
    "rlc['checked'].value_counts()"
   ]
  },
  {
   "cell_type": "code",
   "execution_count": 29,
   "metadata": {},
   "outputs": [],
   "source": [
    "rlc['tags'].fillna('', inplace=True)"
   ]
  },
  {
   "cell_type": "code",
   "execution_count": 30,
   "metadata": {},
   "outputs": [
    {
     "data": {
      "text/plain": [
       "<class 'str'>    61595\n",
       "Name: tags, dtype: int64"
      ]
     },
     "execution_count": 30,
     "metadata": {},
     "output_type": "execute_result"
    }
   ],
   "source": [
    "rlc['tags'].apply(type).value_counts()"
   ]
  },
  {
   "cell_type": "code",
   "execution_count": 77,
   "metadata": {},
   "outputs": [],
   "source": [
    "tag_major_types = {\n",
    "    (\n",
    "        'graph',\n",
    "        'hyphen',\n",
    "        'space',\n",
    "        'ortho',\n",
    "        'translit',\n",
    "        'misspell'\n",
    "    ): 'Ortho',\n",
    "    (\n",
    "        'deriv',\n",
    "        'infl',\n",
    "        'num',\n",
    "        'gender',\n",
    "        'altern',\n",
    "        'morph'\n",
    "    ): 'Morph',\n",
    "    (\n",
    "        'asp',\n",
    "        'argstr',\n",
    "        'passive',\n",
    "        'tense',\n",
    "        'mode',\n",
    "        'refl',\n",
    "        'agrnum',\n",
    "        'argcase',\n",
    "        'agrgender',\n",
    "        'agrpers',\n",
    "        'agrgerund',\n",
    "        'gov',\n",
    "        'ref',\n",
    "        'conj',\n",
    "        'wo',\n",
    "        'neg',\n",
    "        'aux',\n",
    "        'brev',\n",
    "        'com',\n",
    "        'genneg',\n",
    "        'impers',\n",
    "        'syntax'\n",
    "    ): 'Syntax',\n",
    "    (\n",
    "        'lex',\n",
    "        'prep',\n",
    "        'cs',\n",
    "        'par',\n",
    "        'idiom'\n",
    "    ): 'Lex'\n",
    "}"
   ]
  },
  {
   "cell_type": "code",
   "execution_count": 74,
   "metadata": {},
   "outputs": [],
   "source": [
    "def get_tag_list(tags):\n",
    "    subs = [\n",
    "        ('/', ', '),\n",
    "        ('\\\\', ', '),\n",
    "        ('+', ', '),\n",
    "        ('orpho', 'ortho'),\n",
    "        ('orph', 'ortho')\n",
    "    ]\n",
    "    \n",
    "    tags = tags.lower()\n",
    "    for sub in subs:\n",
    "        tags = tags.replace(sub[0], sub[1])\n",
    "    \n",
    "    return tags.split(', ')\n",
    "        \n",
    "\n",
    "tags = []\n",
    "for i in rlc['tags'].apply(get_tag_list):\n",
    "    tags.extend(i)"
   ]
  },
  {
   "cell_type": "code",
   "execution_count": 92,
   "metadata": {},
   "outputs": [],
   "source": [
    "major_tags = []\n",
    "for tag in tags:\n",
    "    for i in tag_major_types:\n",
    "        if tag in i:\n",
    "            major_tags.append(tag_major_types[i])\n",
    "            break\n",
    "    else:\n",
    "        major_tags.append('Other')"
   ]
  },
  {
   "cell_type": "code",
   "execution_count": 110,
   "metadata": {},
   "outputs": [
    {
     "data": {
      "text/plain": [
       "{'Ortho': 0.16403,\n",
       " 'Morph': 0.06281,\n",
       " 'Syntax': 0.2577,\n",
       " 'Other': 0.35834,\n",
       " 'Lex': 0.15711}"
      ]
     },
     "execution_count": 110,
     "metadata": {},
     "output_type": "execute_result"
    }
   ],
   "source": [
    "c = dict(Counter(major_tags))\n",
    "for i in c:\n",
    "    c[i] = round(c[i] / len(major_tags), 5)\n",
    "c"
   ]
  },
  {
   "cell_type": "code",
   "execution_count": 119,
   "metadata": {},
   "outputs": [
    {
     "name": "stdout",
     "output_type": "stream",
     "text": [
      "{'Lex': 0.1571,\n",
      " 'Morph': 0.0628,\n",
      " 'Ortho': 0.164,\n",
      " 'Other': 0.3583,\n",
      " 'Syntax': 0.2577}\n"
     ]
    },
    {
     "data": {
      "image/png": "[encoded data removed]",
      "text/plain": [
       "<Figure size 432x288 with 1 Axes>"
      ]
     },
     "metadata": {
      "needs_background": "light"
     },
     "output_type": "display_data"
    }
   ],
   "source": [
    "c = dict(Counter(major_tags))\n",
    "for i in c:\n",
    "    c[i] = round(c[i] / len(major_tags), 4)\n",
    "pprint(c)\n",
    "plt.hist(major_tags);"
   ]
  },
  {
   "cell_type": "code",
   "execution_count": 120,
   "metadata": {},
   "outputs": [],
   "source": [
    "syntax_tags = []\n",
    "for tag in tags:\n",
    "    for i in tag_major_types:\n",
    "        if tag in i and tag_major_types[i] == 'Syntax':\n",
    "            syntax_tags.append(tag)\n",
    "            break"
   ]
  },
  {
   "cell_type": "code",
   "execution_count": 138,
   "metadata": {},
   "outputs": [
    {
     "name": "stdout",
     "output_type": "stream",
     "text": [
      "{'agrgender': 0.0604,\n",
      " 'agrgerund': 0.0022,\n",
      " 'agrnum': 0.0594,\n",
      " 'agrpers': 0.0066,\n",
      " 'argcase': 0.0011,\n",
      " 'argstr': 0.0104,\n",
      " 'asp': 0.0955,\n",
      " 'aux': 0.015,\n",
      " 'brev': 0.017,\n",
      " 'com': 0.001,\n",
      " 'conj': 0.0848,\n",
      " 'genneg': 0.0025,\n",
      " 'gov': 0.2389,\n",
      " 'impers': 0.0071,\n",
      " 'mode': 0.0074,\n",
      " 'neg': 0.0082,\n",
      " 'passive': 0.0052,\n",
      " 'ref': 0.0791,\n",
      " 'refl': 0.0178,\n",
      " 'syntax': 0.1819,\n",
      " 'tense': 0.0273,\n",
      " 'wo': 0.0712}\n",
      "Тэгов с потенциальными ошибками в дереве: 6316, это 0.066 от всего корпуса\n"
     ]
    },
    {
     "data": {
      "image/png": "[encoded data removed]",
      "text/plain": [
       "<Figure size 432x288 with 1 Axes>"
      ]
     },
     "metadata": {
      "needs_background": "light"
     },
     "output_type": "display_data"
    }
   ],
   "source": [
    "c = dict(Counter(syntax_tags))\n",
    "for i in c:\n",
    "    c[i] = round(c[i] / len(syntax_tags), 4)\n",
    "pprint(c)\n",
    "tree_mistake_tags = round((c['passive'] + c['argstr'] + c['gov']) * len(syntax_tags))\n",
    "print(f\"Тэгов с потенциальными ошибками в дереве: {tree_mistake_tags}, это {round(tree_mistake_tags / len(tags), 3)} от всего корпуса\")\n",
    "plt.xticks(rotation='vertical')\n",
    "plt.hist(syntax_tags, bins=22);"
   ]
  }
 ],
 "metadata": {
  "kernelspec": {
   "display_name": "Python 3",
   "language": "python",
   "name": "python3"
  },
  "language_info": {
   "codemirror_mode": {
    "name": "ipython",
    "version": 3
   },
   "file_extension": ".py",
   "mimetype": "text/x-python",
   "name": "python",
   "nbconvert_exporter": "python",
   "pygments_lexer": "ipython3",
   "version": "3.8.6"
  }
 },
 "nbformat": 4,
 "nbformat_minor": 4
}
